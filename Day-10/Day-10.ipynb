{
 "cells": [
  {
   "cell_type": "code",
   "execution_count": 6,
   "id": "11884307",
   "metadata": {},
   "outputs": [
    {
     "name": "stdout",
     "output_type": "stream",
     "text": [
      "enter a number5\n",
      "*       * \n",
      "  *   *   \n",
      "    *     \n",
      "  *   *   \n",
      "*       * \n"
     ]
    }
   ],
   "source": [
    "n=int(input(\"enter a number\"))\n",
    "for i in range(n):\n",
    "    for j in range(n):\n",
    "        if i==j or i+j==n-1:\n",
    "            print(\"*\",end=\" \")\n",
    "        else:\n",
    "            print(\" \",end=\" \")\n",
    "    print()"
   ]
  },
  {
   "cell_type": "code",
   "execution_count": null,
   "id": "b249f074",
   "metadata": {},
   "outputs": [],
   "source": [
    "15789\n",
    "e=8\n",
    "o=9751"
   ]
  },
  {
   "cell_type": "code",
   "execution_count": 13,
   "id": "fd99b56f",
   "metadata": {},
   "outputs": [
    {
     "name": "stdout",
     "output_type": "stream",
     "text": [
      "Enter a number: 126457\n",
      "Even numbers are:  2 6 4 \n",
      "Odd numbers are:  7 5 1 "
     ]
    }
   ],
   "source": [
    "n=int(input(\"Enter a number: \"))\n",
    "r = 0\n",
    "y = n\n",
    "while n!=0:\n",
    "    r = r*10+n%10\n",
    "    n//=10\n",
    "print(\"Even numbers are: \",end=\" \")\n",
    "while r!=0:\n",
    "    k = r%10\n",
    "    if k%2==0:\n",
    "        print(k,end=\" \")\n",
    "    r//=10\n",
    "print(\"\\nOdd numbers are: \",end=\" \")\n",
    "while y!=0:\n",
    "    p = y%10\n",
    "    if p%2!=0:\n",
    "        print(p,end=\" \")\n",
    "    y//=10\n"
   ]
  },
  {
   "cell_type": "markdown",
   "id": "475715ef",
   "metadata": {},
   "source": [
    "# Functions:\n",
    "    - To Perform a specific task\n",
    "    - 2 types they are:\n",
    "        => Predefined or Builtin or Library\n",
    "        => User Defined \n",
    "    - PreDefined is already the task is to be fixed for it\n",
    "    - User defined function can be used based on user task\n",
    "    Syntax:\n",
    "        def functionname(arguments):\n",
    "            //stmnts\n",
    "            return return_value"
   ]
  },
  {
   "cell_type": "markdown",
   "id": "75fbddf3",
   "metadata": {},
   "source": [
    "# User Defined Functions:\n",
    "    - With returntype and with arguments\n",
    "    - With returntype and without arguments\n",
    "    - Without returntype and with arguments\n",
    "    - Without returntype and without arguments"
   ]
  },
  {
   "cell_type": "code",
   "execution_count": 14,
   "id": "5041742a",
   "metadata": {},
   "outputs": [
    {
     "name": "stdout",
     "output_type": "stream",
     "text": [
      "Enter a number: 12345\n",
      "Given number is: 12345 and its reverse is:54321\n"
     ]
    }
   ],
   "source": [
    "# - With returntype and with arguments\n",
    "# Reading => Main\n",
    "# Printing => Main\n",
    "# Login => Function\n",
    "\n",
    "def rv(m):\n",
    "    t = 0\n",
    "    while m!=0:\n",
    "        t = t*10+m%10\n",
    "        m//=10\n",
    "    return t\n",
    "\n",
    "k = int(input(\"Enter a number: \"))\n",
    "print(f\"Given number is: {k} and its reverse is:\"\n",
    "      f\"{rv(k)}\")"
   ]
  },
  {
   "cell_type": "code",
   "execution_count": null,
   "id": "71437522",
   "metadata": {},
   "outputs": [],
   "source": []
  }
 ],
 "metadata": {
  "kernelspec": {
   "display_name": "Python 3",
   "language": "python",
   "name": "python3"
  },
  "language_info": {
   "codemirror_mode": {
    "name": "ipython",
    "version": 3
   },
   "file_extension": ".py",
   "mimetype": "text/x-python",
   "name": "python",
   "nbconvert_exporter": "python",
   "pygments_lexer": "ipython3",
   "version": "3.7.5"
  }
 },
 "nbformat": 4,
 "nbformat_minor": 5
}
