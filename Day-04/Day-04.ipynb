{
 "cells": [
  {
   "cell_type": "markdown",
   "id": "23c7d75b",
   "metadata": {},
   "source": [
    "# Data Types:\n",
    "    - int => It stores only numeric values\n",
    "    - float => It stores decimal values and numeric values\n",
    "    - string => enclosed with ' or \"\n",
    "    - boolean => Either True or False\n",
    "    - complex => It stores the data in real and imaginary part\n",
    "    - none => null or empty\n",
    "    - All Data Structures like [List,Tuple,Set and Dictionary]"
   ]
  },
  {
   "cell_type": "markdown",
   "id": "9aa667b7",
   "metadata": {},
   "source": [
    "# Type():\n",
    "    - To know the data type of a variable\n",
    "    Syntax:\n",
    "        type(variablename)"
   ]
  },
  {
   "cell_type": "code",
   "execution_count": 1,
   "id": "6a64c96c",
   "metadata": {},
   "outputs": [
    {
     "name": "stdout",
     "output_type": "stream",
     "text": [
      "<class 'int'> <class 'float'> <class 'str'> <class 'bool'> <class 'complex'>\n"
     ]
    }
   ],
   "source": [
    "a,b,c,d,e=4,45.28,'78',False,4+8j\n",
    "print(type(a),type(b),type(c),type(d),type(e))"
   ]
  },
  {
   "cell_type": "code",
   "execution_count": 2,
   "id": "c9eec5a8",
   "metadata": {},
   "outputs": [
    {
     "name": "stdout",
     "output_type": "stream",
     "text": [
      "(78, '45') <class 'tuple'>\n"
     ]
    }
   ],
   "source": [
    "b = 78,'45'\n",
    "print(b,type(b))"
   ]
  },
  {
   "cell_type": "markdown",
   "id": "bc3bb16b",
   "metadata": {},
   "source": [
    "# Input():\n",
    "    - It reads the data from a user\n",
    "    - By default it stores string data type values\n",
    "    - It displays an info to a user\n",
    "    Syntax:\n",
    "        variablename = input(\"something string\")"
   ]
  },
  {
   "cell_type": "code",
   "execution_count": 1,
   "id": "2ab8f930",
   "metadata": {},
   "outputs": [
    {
     "name": "stdout",
     "output_type": "stream",
     "text": [
      "Enter a value: 45\n",
      "45 <class 'str'>\n"
     ]
    }
   ],
   "source": [
    "m = input(\"Enter a value: \")\n",
    "print(m,type(m))"
   ]
  },
  {
   "cell_type": "markdown",
   "id": "bd7f09de",
   "metadata": {},
   "source": [
    "# TypeCasting:\n",
    "    - to change one data type of value to another data type value\n",
    "    Syntax:\n",
    "        datatype(variablename)\n",
    "    - int()\n",
    "    - float()\n",
    "    - str()\n",
    "    - complex()\n",
    "    - All Data Structures like [list(),tuple(),set() and dict()]"
   ]
  },
  {
   "cell_type": "code",
   "execution_count": 6,
   "id": "07f2a12a",
   "metadata": {},
   "outputs": [
    {
     "name": "stdout",
     "output_type": "stream",
     "text": [
      "Enter a value: 4\n",
      "Enter b value: 5\n",
      "Substraction of 4 and 5 is: -1\n",
      "<class 'str'> <class 'str'>\n"
     ]
    }
   ],
   "source": [
    "r,t = input(\"Enter a value: \"),input(\"Enter b value: \")\n",
    "print(\"Substraction of\",r,\"and\",t,\"is:\",int(r)-int(t))\n",
    "print(type(r),type(t))"
   ]
  },
  {
   "cell_type": "code",
   "execution_count": 7,
   "id": "d574400c",
   "metadata": {},
   "outputs": [
    {
     "name": "stdout",
     "output_type": "stream",
     "text": [
      "Enter a value: 2\n",
      "Enter b value: 6\n",
      "Substraction of 2 and 6 is: -4\n",
      "<class 'int'> <class 'int'>\n"
     ]
    }
   ],
   "source": [
    "r,t = int(input(\"Enter a value: \")),int(input(\"Enter b value: \"))\n",
    "print(\"Substraction of\",r,\"and\",t,\"is:\",r-t)\n",
    "print(type(r),type(t))"
   ]
  },
  {
   "cell_type": "code",
   "execution_count": 8,
   "id": "51fb4aab",
   "metadata": {},
   "outputs": [
    {
     "name": "stdout",
     "output_type": "stream",
     "text": [
      "Enter a value: 4\n",
      "Enter b value: 8\n",
      "Substraction of 4 and 8 is: -4\n",
      "<class 'int'> <class 'int'>\n"
     ]
    }
   ],
   "source": [
    "r,t = int(input(\"Enter a value: \")),int(input(\"Enter b value: \"))\n",
    "print(\"Substraction of %d and %d is: %d\"%(r,t,r-t))\n",
    "print(type(r),type(t))"
   ]
  },
  {
   "cell_type": "markdown",
   "id": "a1e709bb",
   "metadata": {},
   "source": [
    "# Output Formatting:\n",
    "    - ,\n",
    "    - %\n",
    "    - .format\n",
    "    - f"
   ]
  },
  {
   "cell_type": "code",
   "execution_count": null,
   "id": "d371671b",
   "metadata": {},
   "outputs": [],
   "source": []
  }
 ],
 "metadata": {
  "kernelspec": {
   "display_name": "Python 3",
   "language": "python",
   "name": "python3"
  },
  "language_info": {
   "codemirror_mode": {
    "name": "ipython",
    "version": 3
   },
   "file_extension": ".py",
   "mimetype": "text/x-python",
   "name": "python",
   "nbconvert_exporter": "python",
   "pygments_lexer": "ipython3",
   "version": "3.7.5"
  }
 },
 "nbformat": 4,
 "nbformat_minor": 5
}
