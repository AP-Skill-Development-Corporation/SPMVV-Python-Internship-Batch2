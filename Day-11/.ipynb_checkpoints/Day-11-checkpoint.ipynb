{
 "cells": [
  {
   "cell_type": "code",
   "execution_count": 4,
   "id": "763f45b3",
   "metadata": {},
   "outputs": [
    {
     "name": "stdout",
     "output_type": "stream",
     "text": [
      "enter n value:12545\n",
      "Given number is: 12545 reverse is: 54521\n"
     ]
    }
   ],
   "source": [
    "# with returntype and without arguments\n",
    "# Reading: Function\n",
    "# Printing: Main \n",
    "# Logic: Function\n",
    "def mno():\n",
    "    n=int(input(\"enter n value:\"))\n",
    "    print(f\"Given number is: {n}\",end=\" \")\n",
    "    rev=0\n",
    "    while n!=0:\n",
    "        rev=rev*10+n%10\n",
    "        n//=10\n",
    "    return rev\n",
    "\n",
    "print(f\"reverse is: {mno()}\")"
   ]
  },
  {
   "cell_type": "code",
   "execution_count": 5,
   "id": "a060b011",
   "metadata": {},
   "outputs": [
    {
     "name": "stdout",
     "output_type": "stream",
     "text": [
      "enter n value:45687\n",
      "Given number is: 45687 reverse is: 78654\n"
     ]
    }
   ],
   "source": [
    "# without returntype and with arguments\n",
    "# Reading: Main\n",
    "# Printing: Function \n",
    "# Logic: Function\n",
    "def mno(n):\n",
    "    print(f\"Given number is: {n}\",end=\" \")\n",
    "    rev=0\n",
    "    while n!=0:\n",
    "        rev=rev*10+n%10\n",
    "        n//=10\n",
    "    print(f\"reverse is: {rev}\")\n",
    "    return\n",
    "\n",
    "k=int(input(\"enter n value:\"))\n",
    "mno(k)"
   ]
  },
  {
   "cell_type": "code",
   "execution_count": 6,
   "id": "2515f9f2",
   "metadata": {},
   "outputs": [
    {
     "name": "stdout",
     "output_type": "stream",
     "text": [
      "enter n value:4875\n",
      "Given number is: 4875 reverse is: 5784\n"
     ]
    }
   ],
   "source": [
    "# without returntype and with arguments\n",
    "# Reading: Function\n",
    "# Printing: Function \n",
    "# Logic: Function\n",
    "def mno():\n",
    "    n=int(input(\"enter n value:\"))\n",
    "    print(f\"Given number is: {n}\",end=\" \")\n",
    "    rev=0\n",
    "    while n!=0:\n",
    "        rev=rev*10+n%10\n",
    "        n//=10\n",
    "    print(f\"reverse is: {rev}\")\n",
    "    return\n",
    "\n",
    "mno()"
   ]
  },
  {
   "cell_type": "code",
   "execution_count": null,
   "id": "361c1f59",
   "metadata": {},
   "outputs": [],
   "source": []
  }
 ],
 "metadata": {
  "kernelspec": {
   "display_name": "Python 3",
   "language": "python",
   "name": "python3"
  },
  "language_info": {
   "codemirror_mode": {
    "name": "ipython",
    "version": 3
   },
   "file_extension": ".py",
   "mimetype": "text/x-python",
   "name": "python",
   "nbconvert_exporter": "python",
   "pygments_lexer": "ipython3",
   "version": "3.7.5"
  }
 },
 "nbformat": 4,
 "nbformat_minor": 5
}
