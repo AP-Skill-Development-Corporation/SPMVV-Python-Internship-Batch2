{
 "cells": [
  {
   "cell_type": "code",
   "execution_count": 7,
   "id": "505901b4",
   "metadata": {},
   "outputs": [
    {
     "name": "stdout",
     "output_type": "stream",
     "text": [
      "enter a value-5\n",
      "enter g value-9\n",
      "(-5-9j)\n"
     ]
    }
   ],
   "source": [
    "v = complex(int(input(\"enter a value\" )),int(input(\"enter g value\")))\n",
    "print(v)"
   ]
  },
  {
   "cell_type": "code",
   "execution_count": 24,
   "id": "649b8e67",
   "metadata": {},
   "outputs": [
    {
     "data": {
      "text/plain": [
       "False"
      ]
     },
     "execution_count": 24,
     "metadata": {},
     "output_type": "execute_result"
    }
   ],
   "source": [
    "bool(0)"
   ]
  },
  {
   "cell_type": "code",
   "execution_count": 27,
   "id": "167155ce",
   "metadata": {},
   "outputs": [
    {
     "name": "stdout",
     "output_type": "stream",
     "text": [
      "Enter a value: 4\n",
      "Enter a value: 2\n"
     ]
    },
    {
     "ename": "TypeError",
     "evalue": "not enough arguments for format string",
     "output_type": "error",
     "traceback": [
      "\u001b[1;31m---------------------------------------------------------------------\u001b[0m",
      "\u001b[1;31mTypeError\u001b[0m                           Traceback (most recent call last)",
      "\u001b[1;32m<ipython-input-27-ba1111b23da0>\u001b[0m in \u001b[0;36m<module>\u001b[1;34m\u001b[0m\n\u001b[0;32m      1\u001b[0m \u001b[0mc\u001b[0m\u001b[1;33m,\u001b[0m\u001b[0mn\u001b[0m \u001b[1;33m=\u001b[0m \u001b[0mint\u001b[0m\u001b[1;33m(\u001b[0m\u001b[0minput\u001b[0m\u001b[1;33m(\u001b[0m\u001b[1;34m\"Enter a value: \"\u001b[0m\u001b[1;33m)\u001b[0m\u001b[1;33m)\u001b[0m\u001b[1;33m,\u001b[0m\u001b[0mint\u001b[0m\u001b[1;33m(\u001b[0m\u001b[0minput\u001b[0m\u001b[1;33m(\u001b[0m\u001b[1;34m\"Enter a value: \"\u001b[0m\u001b[1;33m)\u001b[0m\u001b[1;33m)\u001b[0m\u001b[1;33m\u001b[0m\u001b[1;33m\u001b[0m\u001b[0m\n\u001b[1;32m----> 2\u001b[1;33m \u001b[0mprint\u001b[0m\u001b[1;33m(\u001b[0m\u001b[1;34m\"Division of %d and %d is: %f %d\"\u001b[0m\u001b[1;33m%\u001b[0m\u001b[1;33m(\u001b[0m\u001b[0mc\u001b[0m\u001b[1;33m,\u001b[0m\u001b[0mn\u001b[0m\u001b[1;33m,\u001b[0m\u001b[0mc\u001b[0m\u001b[1;33m/\u001b[0m\u001b[0mn\u001b[0m\u001b[1;33m)\u001b[0m\u001b[1;33m)\u001b[0m\u001b[1;33m\u001b[0m\u001b[1;33m\u001b[0m\u001b[0m\n\u001b[0m",
      "\u001b[1;31mTypeError\u001b[0m: not enough arguments for format string"
     ]
    }
   ],
   "source": [
    "c,n = int(input(\"Enter a value: \")),int(input(\"Enter a value: \"))\n",
    "print(\"Division of %d and %d is: %f %d\"%(c,n,c/n))"
   ]
  },
  {
   "cell_type": "code",
   "execution_count": 31,
   "id": "07f22b78",
   "metadata": {},
   "outputs": [
    {
     "name": "stdout",
     "output_type": "stream",
     "text": [
      "Enter a value: 1\n",
      "Enter a value: 6\n"
     ]
    },
    {
     "ename": "IndexError",
     "evalue": "tuple index out of range",
     "output_type": "error",
     "traceback": [
      "\u001b[1;31m---------------------------------------------------------------------\u001b[0m",
      "\u001b[1;31mIndexError\u001b[0m                          Traceback (most recent call last)",
      "\u001b[1;32m<ipython-input-31-085730162192>\u001b[0m in \u001b[0;36m<module>\u001b[1;34m\u001b[0m\n\u001b[0;32m      1\u001b[0m \u001b[0mc\u001b[0m\u001b[1;33m,\u001b[0m\u001b[0mn\u001b[0m \u001b[1;33m=\u001b[0m \u001b[0mint\u001b[0m\u001b[1;33m(\u001b[0m\u001b[0minput\u001b[0m\u001b[1;33m(\u001b[0m\u001b[1;34m\"Enter a value: \"\u001b[0m\u001b[1;33m)\u001b[0m\u001b[1;33m)\u001b[0m\u001b[1;33m,\u001b[0m\u001b[0mint\u001b[0m\u001b[1;33m(\u001b[0m\u001b[0minput\u001b[0m\u001b[1;33m(\u001b[0m\u001b[1;34m\"Enter a value: \"\u001b[0m\u001b[1;33m)\u001b[0m\u001b[1;33m)\u001b[0m\u001b[1;33m\u001b[0m\u001b[1;33m\u001b[0m\u001b[0m\n\u001b[1;32m----> 2\u001b[1;33m \u001b[0mprint\u001b[0m\u001b[1;33m(\u001b[0m\u001b[1;34m\"Division of {} and {} is: {} {}\"\u001b[0m\u001b[1;33m.\u001b[0m\u001b[0mformat\u001b[0m\u001b[1;33m(\u001b[0m\u001b[0mc\u001b[0m\u001b[1;33m,\u001b[0m\u001b[0mn\u001b[0m\u001b[1;33m,\u001b[0m\u001b[0mc\u001b[0m\u001b[1;33m/\u001b[0m\u001b[0mn\u001b[0m\u001b[1;33m)\u001b[0m\u001b[1;33m)\u001b[0m\u001b[1;33m\u001b[0m\u001b[1;33m\u001b[0m\u001b[0m\n\u001b[0m\u001b[0;32m      3\u001b[0m \u001b[0mprint\u001b[0m\u001b[1;33m(\u001b[0m\u001b[1;34m\"Division of {1} and {0} is: {2}\"\u001b[0m\u001b[1;33m.\u001b[0m\u001b[0mformat\u001b[0m\u001b[1;33m(\u001b[0m\u001b[0mc\u001b[0m\u001b[1;33m,\u001b[0m\u001b[0mn\u001b[0m\u001b[1;33m,\u001b[0m\u001b[0mc\u001b[0m\u001b[1;33m/\u001b[0m\u001b[0mn\u001b[0m\u001b[1;33m)\u001b[0m\u001b[1;33m)\u001b[0m\u001b[1;33m\u001b[0m\u001b[1;33m\u001b[0m\u001b[0m\n",
      "\u001b[1;31mIndexError\u001b[0m: tuple index out of range"
     ]
    }
   ],
   "source": [
    "c,n = int(input(\"Enter a value: \")),int(input(\"Enter a value: \"))\n",
    "print(\"Division of {} and {} is: {} {}\".format(c,n,c/n))\n",
    "print(\"Division of {1} and {0} is: {2}\".format(c,n,c/n))"
   ]
  },
  {
   "cell_type": "code",
   "execution_count": 32,
   "id": "fe79b5a9",
   "metadata": {},
   "outputs": [
    {
     "name": "stdout",
     "output_type": "stream",
     "text": [
      "Enter a value: 2\n",
      "Enter a value: 6\n",
      "Multiplication of 6 and 2 is: 12\n"
     ]
    }
   ],
   "source": [
    "r,p = int(input(\"Enter a value: \")),int(input(\"Enter a value: \"))\n",
    "print(f\"Multiplication of {p} and {r} is: {r*p}\")"
   ]
  },
  {
   "cell_type": "markdown",
   "id": "844e387f",
   "metadata": {},
   "source": [
    "# Operators:\n",
    "    - Arithmetic => +,-,/,*,%,//(floor division),**(Exponent)\n",
    "    - Bitwise => &,|,^,>>,<<\n",
    "    - Logical => AND,OR,XOR\n",
    "    - Relational => !=,==,<=,>=,<,>\n",
    "    - Assignment => +=,-=,*=,%=,**=,//=\n",
    "    - Membership => in,not in\n",
    "    - Identity => is,is not"
   ]
  },
  {
   "cell_type": "markdown",
   "id": "c7556dc6",
   "metadata": {},
   "source": [
    "# Conditional Statements:\n",
    "    - To Check whether a given condition is either True or False\n",
    "    - if => single case\n",
    "    - if-else => Two cases\n",
    "    - nested if => Two or more cases\n",
    "    - elif => Two or more n number of cases"
   ]
  },
  {
   "cell_type": "markdown",
   "id": "197549f7",
   "metadata": {},
   "source": [
    "# if:\n",
    "    () => opitional\n",
    "    Syntax:\n",
    "        if condition:\n",
    "            //stmnts"
   ]
  },
  {
   "cell_type": "code",
   "execution_count": 37,
   "id": "ff717d5d",
   "metadata": {},
   "outputs": [
    {
     "name": "stdout",
     "output_type": "stream",
     "text": [
      "enter a value:2\n",
      "enter b value:2\n",
      "2.0 and 2 are equal\n"
     ]
    }
   ],
   "source": [
    "x,b=float(input(\"enter a value:\")),int(input(\"enter b value:\"))\n",
    "if(x==b):\n",
    "    print(f\"{x} and {b} are equal\")\n",
    "    "
   ]
  },
  {
   "cell_type": "markdown",
   "id": "8666a92e",
   "metadata": {},
   "source": [
    "# If-else:\n",
    "    () => Optional\n",
    "    Syntax:\n",
    "        if condition-1:\n",
    "            //stmnt-1\n",
    "        else:\n",
    "            //stmnt-2"
   ]
  },
  {
   "cell_type": "code",
   "execution_count": 41,
   "id": "33f5e332",
   "metadata": {},
   "outputs": [
    {
     "name": "stdout",
     "output_type": "stream",
     "text": [
      "enter a value:3\n",
      "enter b value:5\n",
      "3 and 5 are not equal\n"
     ]
    }
   ],
   "source": [
    "a,b=int(input(\"enter a value:\")),int(input(\"enter b value:\"))\n",
    "if (a==b):\n",
    "    print(f\"{a} and {b} are equal\")\n",
    "else:\n",
    "    print(f\"{a} and {b} are not equal\")"
   ]
  },
  {
   "cell_type": "code",
   "execution_count": null,
   "id": "632c08ce",
   "metadata": {},
   "outputs": [],
   "source": []
  }
 ],
 "metadata": {
  "kernelspec": {
   "display_name": "Python 3",
   "language": "python",
   "name": "python3"
  },
  "language_info": {
   "codemirror_mode": {
    "name": "ipython",
    "version": 3
   },
   "file_extension": ".py",
   "mimetype": "text/x-python",
   "name": "python",
   "nbconvert_exporter": "python",
   "pygments_lexer": "ipython3",
   "version": "3.7.5"
  }
 },
 "nbformat": 4,
 "nbformat_minor": 5
}
