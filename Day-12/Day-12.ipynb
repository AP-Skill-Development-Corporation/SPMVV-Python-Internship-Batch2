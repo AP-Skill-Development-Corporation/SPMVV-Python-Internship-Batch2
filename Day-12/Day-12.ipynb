{
 "cells": [
  {
   "cell_type": "markdown",
   "id": "61dc4f65",
   "metadata": {},
   "source": [
    "# Required or positional argument"
   ]
  },
  {
   "cell_type": "code",
   "execution_count": 1,
   "id": "62ba8242",
   "metadata": {},
   "outputs": [
    {
     "name": "stdout",
     "output_type": "stream",
     "text": [
      "Enter a name: kiran\n",
      "Enter an Id: e45\n",
      "Employee Name is: kiran\n",
      "Employee Id is: e45\n"
     ]
    }
   ],
   "source": [
    "def empldts(ename,eid):\n",
    "    print(f\"Employee Name is: {ename}\\n\"\n",
    "          f\"Employee Id is: {eid}\")\n",
    "    return\n",
    "\n",
    "en = input(\"Enter a name: \")\n",
    "ed = input(\"Enter an Id: \")\n",
    "empldts(en,ed)"
   ]
  },
  {
   "cell_type": "code",
   "execution_count": 2,
   "id": "c69bd855",
   "metadata": {},
   "outputs": [
    {
     "name": "stdout",
     "output_type": "stream",
     "text": [
      "Enter a name: Hari\n",
      "Enter an Id: e78\n"
     ]
    },
    {
     "ename": "TypeError",
     "evalue": "empldts() missing 1 required positional argument: 'esal'",
     "output_type": "error",
     "traceback": [
      "\u001b[1;31m---------------------------------------------------------------------\u001b[0m",
      "\u001b[1;31mTypeError\u001b[0m                           Traceback (most recent call last)",
      "\u001b[1;32m<ipython-input-2-9846974e22fb>\u001b[0m in \u001b[0;36m<module>\u001b[1;34m\u001b[0m\n\u001b[0;32m      6\u001b[0m \u001b[0men\u001b[0m \u001b[1;33m=\u001b[0m \u001b[0minput\u001b[0m\u001b[1;33m(\u001b[0m\u001b[1;34m\"Enter a name: \"\u001b[0m\u001b[1;33m)\u001b[0m\u001b[1;33m\u001b[0m\u001b[1;33m\u001b[0m\u001b[0m\n\u001b[0;32m      7\u001b[0m \u001b[0med\u001b[0m \u001b[1;33m=\u001b[0m \u001b[0minput\u001b[0m\u001b[1;33m(\u001b[0m\u001b[1;34m\"Enter an Id: \"\u001b[0m\u001b[1;33m)\u001b[0m\u001b[1;33m\u001b[0m\u001b[1;33m\u001b[0m\u001b[0m\n\u001b[1;32m----> 8\u001b[1;33m \u001b[0mempldts\u001b[0m\u001b[1;33m(\u001b[0m\u001b[0men\u001b[0m\u001b[1;33m,\u001b[0m\u001b[0med\u001b[0m\u001b[1;33m)\u001b[0m\u001b[1;33m\u001b[0m\u001b[1;33m\u001b[0m\u001b[0m\n\u001b[0m",
      "\u001b[1;31mTypeError\u001b[0m: empldts() missing 1 required positional argument: 'esal'"
     ]
    }
   ],
   "source": [
    "def empldts(ename,eid,esal):\n",
    "    print(f\"Employee Name is: {ename}\\n\"\n",
    "          f\"Employee Id is: {eid}\")\n",
    "    return\n",
    "\n",
    "en = input(\"Enter a name: \")\n",
    "ed = input(\"Enter an Id: \")\n",
    "empldts(en,ed)"
   ]
  },
  {
   "cell_type": "code",
   "execution_count": 3,
   "id": "e7f697c4",
   "metadata": {},
   "outputs": [
    {
     "name": "stdout",
     "output_type": "stream",
     "text": [
      "Enter a name: Rajesh\n",
      "Enter an Id: E34\n"
     ]
    },
    {
     "ename": "TypeError",
     "evalue": "empldts() takes 1 positional argument but 2 were given",
     "output_type": "error",
     "traceback": [
      "\u001b[1;31m---------------------------------------------------------------------\u001b[0m",
      "\u001b[1;31mTypeError\u001b[0m                           Traceback (most recent call last)",
      "\u001b[1;32m<ipython-input-3-92f9c98f2e6a>\u001b[0m in \u001b[0;36m<module>\u001b[1;34m\u001b[0m\n\u001b[0;32m      5\u001b[0m \u001b[0men\u001b[0m \u001b[1;33m=\u001b[0m \u001b[0minput\u001b[0m\u001b[1;33m(\u001b[0m\u001b[1;34m\"Enter a name: \"\u001b[0m\u001b[1;33m)\u001b[0m\u001b[1;33m\u001b[0m\u001b[1;33m\u001b[0m\u001b[0m\n\u001b[0;32m      6\u001b[0m \u001b[0med\u001b[0m \u001b[1;33m=\u001b[0m \u001b[0minput\u001b[0m\u001b[1;33m(\u001b[0m\u001b[1;34m\"Enter an Id: \"\u001b[0m\u001b[1;33m)\u001b[0m\u001b[1;33m\u001b[0m\u001b[1;33m\u001b[0m\u001b[0m\n\u001b[1;32m----> 7\u001b[1;33m \u001b[0mempldts\u001b[0m\u001b[1;33m(\u001b[0m\u001b[0men\u001b[0m\u001b[1;33m,\u001b[0m\u001b[0med\u001b[0m\u001b[1;33m)\u001b[0m\u001b[1;33m\u001b[0m\u001b[1;33m\u001b[0m\u001b[0m\n\u001b[0m",
      "\u001b[1;31mTypeError\u001b[0m: empldts() takes 1 positional argument but 2 were given"
     ]
    }
   ],
   "source": [
    "def empldts(ename):\n",
    "    print(f\"Employee Name is: {ename}\")\n",
    "    return\n",
    "\n",
    "en = input(\"Enter a name: \")\n",
    "ed = input(\"Enter an Id: \")\n",
    "empldts(en,ed)"
   ]
  },
  {
   "cell_type": "markdown",
   "id": "44192a47",
   "metadata": {},
   "source": [
    "# Default argument"
   ]
  },
  {
   "cell_type": "code",
   "execution_count": 6,
   "id": "286f9810",
   "metadata": {},
   "outputs": [
    {
     "name": "stdout",
     "output_type": "stream",
     "text": [
      "Enter a Name: Manoj\n",
      "Enter an Year: 1\n",
      "Name is: Manoj\n",
      "Year is: 1\n",
      "Branch is: CSE\n"
     ]
    }
   ],
   "source": [
    "def stdnt(name,year=3,branch='CSE'):\n",
    "    print(f\"Name is: {name}\\nYear is: {year}\\n\"\n",
    "          f\"Branch is: {branch}\")\n",
    "    return\n",
    "\n",
    "sn = input(\"Enter a Name: \")\n",
    "sy = input(\"Enter an Year: \")\n",
    "stdnt(sn,sy)\n",
    "# stdnt(sn)"
   ]
  },
  {
   "cell_type": "code",
   "execution_count": 7,
   "id": "dd1bc5f1",
   "metadata": {},
   "outputs": [
    {
     "ename": "SyntaxError",
     "evalue": "non-default argument follows default argument (<ipython-input-7-37fa49a82efe>, line 1)",
     "output_type": "error",
     "traceback": [
      "\u001b[1;36m  File \u001b[1;32m\"<ipython-input-7-37fa49a82efe>\"\u001b[1;36m, line \u001b[1;32m1\u001b[0m\n\u001b[1;33m    def stdnt(name,year=3,branch):\u001b[0m\n\u001b[1;37m             ^\u001b[0m\n\u001b[1;31mSyntaxError\u001b[0m\u001b[1;31m:\u001b[0m non-default argument follows default argument\n"
     ]
    }
   ],
   "source": [
    "def stdnt(name,year=3,branch):\n",
    "    print(f\"Name is: {name}\\nYear is: {year}\\n\"\n",
    "          f\"Branch is: {branch}\")\n",
    "    return\n",
    "\n",
    "sn = input(\"Enter a Name: \")\n",
    "sy = input(\"Enter an Year: \")\n",
    "stdnt(sn,sy)\n",
    "# stdnt(sn)"
   ]
  },
  {
   "cell_type": "markdown",
   "id": "14ac0ac2",
   "metadata": {},
   "source": [
    "# Keyword argument"
   ]
  },
  {
   "cell_type": "code",
   "execution_count": 9,
   "id": "200db04a",
   "metadata": {},
   "outputs": [
    {
     "name": "stdout",
     "output_type": "stream",
     "text": [
      "Enter employee id: E456\n",
      "Enter employee name: Arun\n",
      "Enter employee sal: 45000\n",
      "Employee Name: Arun\n",
      "Employee Id: E456\n",
      "Employee Salary: 45000\n"
     ]
    }
   ],
   "source": [
    "def empl(es,eid,en):\n",
    "    print(f\"Employee Name: {en}\\nEmployee Id: {eid}\\n\"\n",
    "         f\"Employee Salary: {es}\")\n",
    "    return\n",
    "\n",
    "i = input(\"Enter employee id: \")\n",
    "n = input(\"Enter employee name: \")\n",
    "s = input(\"Enter employee sal: \")\n",
    "empl(eid=i,en=n,es=s)"
   ]
  },
  {
   "cell_type": "markdown",
   "id": "a9a8a05d",
   "metadata": {},
   "source": [
    "# Variable Length argument"
   ]
  },
  {
   "cell_type": "code",
   "execution_count": 10,
   "id": "03546cf6",
   "metadata": {},
   "outputs": [
    {
     "name": "stdout",
     "output_type": "stream",
     "text": [
      "Sireesha <class 'str'>\n",
      "(50, 23.054, '78', True) <class 'tuple'>\n"
     ]
    }
   ],
   "source": [
    "def yh(k,*h):\n",
    "    print(k,type(k))\n",
    "    print(h,type(h))\n",
    "    return \n",
    "\n",
    "yh(\"Sireesha\",50,23.054,'78',True)"
   ]
  },
  {
   "cell_type": "code",
   "execution_count": 11,
   "id": "30ced07e",
   "metadata": {},
   "outputs": [
    {
     "name": "stdout",
     "output_type": "stream",
     "text": [
      "('Sireesha', 50, 23.054, '78', True) <class 'tuple'>\n"
     ]
    }
   ],
   "source": [
    "def yh(*h):\n",
    "    print(h,type(h))\n",
    "    return \n",
    "\n",
    "yh(\"Sireesha\",50,23.054,'78',True)"
   ]
  },
  {
   "cell_type": "code",
   "execution_count": 12,
   "id": "24b02bfd",
   "metadata": {},
   "outputs": [
    {
     "name": "stdout",
     "output_type": "stream",
     "text": [
      "Sireesha <class 'str'>\n",
      "(50, 23.054, '78', True) <class 'tuple'>\n",
      "{'name': 'Eswar', 'Addr': 'TPT', 'Sal': 45000} <class 'dict'>\n"
     ]
    }
   ],
   "source": [
    "def yh(k,*h,**w):\n",
    "    print(k,type(k))\n",
    "    print(h,type(h))\n",
    "    print(w,type(w))\n",
    "    return \n",
    "\n",
    "yh(\"Sireesha\",50,23.054,'78',True,name='Eswar',Addr='TPT',Sal=45000)"
   ]
  },
  {
   "cell_type": "code",
   "execution_count": 14,
   "id": "ab8963d8",
   "metadata": {},
   "outputs": [
    {
     "ename": "TypeError",
     "evalue": "yh() missing 1 required keyword-only argument: 't'",
     "output_type": "error",
     "traceback": [
      "\u001b[1;31m---------------------------------------------------------------------\u001b[0m",
      "\u001b[1;31mTypeError\u001b[0m                           Traceback (most recent call last)",
      "\u001b[1;32m<ipython-input-14-4fc6d6370edc>\u001b[0m in \u001b[0;36m<module>\u001b[1;34m\u001b[0m\n\u001b[0;32m      5\u001b[0m     \u001b[1;32mreturn\u001b[0m\u001b[1;33m\u001b[0m\u001b[1;33m\u001b[0m\u001b[0m\n\u001b[0;32m      6\u001b[0m \u001b[1;33m\u001b[0m\u001b[0m\n\u001b[1;32m----> 7\u001b[1;33m \u001b[0myh\u001b[0m\u001b[1;33m(\u001b[0m\u001b[1;34m\"Sireesha\"\u001b[0m\u001b[1;33m,\u001b[0m\u001b[1;36m50\u001b[0m\u001b[1;33m,\u001b[0m\u001b[1;36m23.054\u001b[0m\u001b[1;33m,\u001b[0m\u001b[1;34m'78'\u001b[0m\u001b[1;33m,\u001b[0m\u001b[1;32mTrue\u001b[0m\u001b[1;33m,\u001b[0m\u001b[0mname\u001b[0m\u001b[1;33m=\u001b[0m\u001b[1;34m'Eswar'\u001b[0m\u001b[1;33m,\u001b[0m\u001b[0mAddr\u001b[0m\u001b[1;33m=\u001b[0m\u001b[1;34m'TPT'\u001b[0m\u001b[1;33m,\u001b[0m\u001b[0mSal\u001b[0m\u001b[1;33m=\u001b[0m\u001b[1;36m45000\u001b[0m\u001b[1;33m)\u001b[0m\u001b[1;33m\u001b[0m\u001b[1;33m\u001b[0m\u001b[0m\n\u001b[0m",
      "\u001b[1;31mTypeError\u001b[0m: yh() missing 1 required keyword-only argument: 't'"
     ]
    }
   ],
   "source": [
    "def yh(k,*h,t,**w):\n",
    "    print(k,type(k))\n",
    "    print(h,type(h))\n",
    "    print(w,type(w))\n",
    "    return \n",
    "\n",
    "yh(\"Sireesha\",50,23.054,'78',True,name='Eswar',Addr='TPT',Sal=45000)"
   ]
  },
  {
   "cell_type": "code",
   "execution_count": 15,
   "id": "bfa32f2e",
   "metadata": {},
   "outputs": [
    {
     "name": "stdout",
     "output_type": "stream",
     "text": [
      "{'name': 'Eswar', 'Addr': 'TPT', 'Sal': 45000} <class 'dict'>\n"
     ]
    }
   ],
   "source": [
    "def yh(**w):\n",
    "    print(w,type(w))\n",
    "    return \n",
    "\n",
    "yh(name='Eswar',Addr='TPT',Sal=45000)"
   ]
  },
  {
   "cell_type": "code",
   "execution_count": null,
   "id": "77afc4ac",
   "metadata": {},
   "outputs": [],
   "source": []
  }
 ],
 "metadata": {
  "kernelspec": {
   "display_name": "Python 3",
   "language": "python",
   "name": "python3"
  },
  "language_info": {
   "codemirror_mode": {
    "name": "ipython",
    "version": 3
   },
   "file_extension": ".py",
   "mimetype": "text/x-python",
   "name": "python",
   "nbconvert_exporter": "python",
   "pygments_lexer": "ipython3",
   "version": "3.7.5"
  }
 },
 "nbformat": 4,
 "nbformat_minor": 5
}
