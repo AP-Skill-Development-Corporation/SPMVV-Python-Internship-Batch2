{
 "cells": [
  {
   "cell_type": "code",
   "execution_count": 3,
   "id": "fc1a455f",
   "metadata": {},
   "outputs": [
    {
     "name": "stdout",
     "output_type": "stream",
     "text": [
      "Enter start value: 50\n",
      "Enter end value: 10\n",
      "Enter step value: -5\n",
      "50 45 40 35 30 25 20 15 "
     ]
    }
   ],
   "source": [
    "n = int(input(\"Enter start value: \"))\n",
    "p = int(input(\"Enter end value: \"))\n",
    "h = int(input(\"Enter step value: \"))\n",
    "for i in range(n,p,h):\n",
    "    print(i,end=\" \")"
   ]
  },
  {
   "cell_type": "markdown",
   "id": "56d35ddb",
   "metadata": {},
   "source": [
    "# while:\n",
    "    initialization\n",
    "    while condition:\n",
    "        //stmnts\n",
    "        incre/decr"
   ]
  },
  {
   "cell_type": "code",
   "execution_count": 1,
   "id": "9e83685c",
   "metadata": {},
   "outputs": [
    {
     "name": "stdout",
     "output_type": "stream",
     "text": [
      "Enter a start value: 10\n",
      "Enter end value: 20\n",
      "10 11 12 13 14 15 16 17 18 19 "
     ]
    }
   ],
   "source": [
    "n = int(input(\"Enter a start value: \"))\n",
    "e = int(input(\"Enter end value: \"))\n",
    "while n!=e:\n",
    "    print(n,end=\" \")\n",
    "    n+=1"
   ]
  },
  {
   "cell_type": "code",
   "execution_count": 2,
   "id": "e44d455c",
   "metadata": {},
   "outputs": [
    {
     "name": "stdout",
     "output_type": "stream",
     "text": [
      "Enter a start value: 10\n",
      "Enter end value: 20\n",
      "20 19 18 17 16 15 14 13 12 11 "
     ]
    }
   ],
   "source": [
    "n = int(input(\"Enter a start value: \"))\n",
    "e = int(input(\"Enter end value: \"))\n",
    "while n!=e:\n",
    "    print(e,end=\" \")\n",
    "    e-=1"
   ]
  },
  {
   "cell_type": "code",
   "execution_count": 5,
   "id": "10ac5dfc",
   "metadata": {},
   "outputs": [
    {
     "name": "stdout",
     "output_type": "stream",
     "text": [
      "1.Addition\n",
      "2.Odd\n",
      "3.Multiplication\n",
      "4.Exit\n",
      "Enter your choice: 4\n"
     ]
    }
   ],
   "source": [
    "while True:\n",
    "    print(\"1.Addition\\n2.Odd\\n3.Multiplication\\n4.Exit\")\n",
    "    n = int(input(\"Enter your choice: \"))\n",
    "    if n==1:\n",
    "        k = int(input(\"Enter a number: \"))\n",
    "        print(f\"{k+5} is Added with 5\")\n",
    "    elif n==2:\n",
    "        j = int(input(\"Enter a number: \"))\n",
    "        if j%2!=0:\n",
    "            print(f\"{j} is odd\")\n",
    "    elif n==3:\n",
    "        g = int(input(\"Enter a number: \"))\n",
    "        print(f\"{g*3} is multiplyed with 3\")\n",
    "    elif n==4:\n",
    "        break\n",
    "    else:\n",
    "        print(\"Try again!!!!\")"
   ]
  },
  {
   "cell_type": "markdown",
   "id": "bc51d6b9",
   "metadata": {},
   "source": [
    "# Jumping Statements:\n",
    "    - To Control the flow of execution\n",
    "    - break => It exits from a loop\n",
    "    - continue => It skips a value and repeats untill for a end value\n",
    "    - pass => It will executes like a continue and the code will be implemented in future enhancements\n",
    "    - return => It returns single value or n number of values"
   ]
  },
  {
   "cell_type": "code",
   "execution_count": 6,
   "id": "7ca58c1b",
   "metadata": {},
   "outputs": [
    {
     "name": "stdout",
     "output_type": "stream",
     "text": [
      "Enter a value: 10\n",
      "Enter stop value: 5\n",
      "1 2 3 4 "
     ]
    }
   ],
   "source": [
    "h = int(input(\"Enter a value: \"))\n",
    "u = int(input(\"Enter stop value: \"))\n",
    "for i in range(1,h):\n",
    "    if i==u:\n",
    "        break\n",
    "    else:\n",
    "        print(i,end=\" \")"
   ]
  },
  {
   "cell_type": "code",
   "execution_count": 8,
   "id": "97a56b8f",
   "metadata": {},
   "outputs": [
    {
     "name": "stdout",
     "output_type": "stream",
     "text": [
      "Enter a value: 30\n",
      "Enter stop value: 20\n",
      "1 2 3 4 5 6 7 8 9 10 11 12 13 14 15 16 17 18 19 21 22 23 24 25 26 27 28 29 "
     ]
    }
   ],
   "source": [
    "h = int(input(\"Enter a value: \"))\n",
    "u = int(input(\"Enter stop value: \"))\n",
    "for i in range(1,h):\n",
    "    if i==u:\n",
    "        continue\n",
    "    else:\n",
    "        print(i,end=\" \")"
   ]
  },
  {
   "cell_type": "code",
   "execution_count": 9,
   "id": "5bda3236",
   "metadata": {},
   "outputs": [
    {
     "name": "stdout",
     "output_type": "stream",
     "text": [
      "Enter a value: 10\n",
      "Enter stop value: 5\n",
      "1 2 3 4 6 7 8 9 "
     ]
    }
   ],
   "source": [
    "h = int(input(\"Enter a value: \"))\n",
    "u = int(input(\"Enter stop value: \"))\n",
    "for i in range(1,h):\n",
    "    if i==u:\n",
    "        pass\n",
    "    else:\n",
    "        print(i,end=\" \")"
   ]
  },
  {
   "cell_type": "markdown",
   "id": "9edf0fda",
   "metadata": {},
   "source": [
    "```\n",
    "15789\n",
    "\n",
    "Even numbers are: 8\n",
    "Odd numbers are: 9 7 5 1\n",
    "Count of Even numbers are: 1\n",
    "Count of Odd numbers are: 4\n",
    "    \n",
    "1256\n",
    "\n",
    "Even numbers are: 2 6\n",
    "Odd numbers are: 1 5\n",
    "Count of Even numbers are: 2\n",
    "Count of Odd numbers are: 2\n",
    "```"
   ]
  },
  {
   "cell_type": "markdown",
   "id": "e2f50fac",
   "metadata": {},
   "source": [
    "# Inner Loops:\n",
    "    - Loop within a loop"
   ]
  },
  {
   "cell_type": "code",
   "execution_count": 11,
   "id": "eb893c2c",
   "metadata": {},
   "outputs": [
    {
     "name": "stdout",
     "output_type": "stream",
     "text": [
      "Enter row size: 2\n",
      "Enter column size: 6\n",
      "0 0 0 0 0 0 \n",
      "1 1 1 1 1 1 \n"
     ]
    }
   ],
   "source": [
    "n = int(input(\"Enter row size: \"))\n",
    "m = int(input(\"Enter column size: \"))\n",
    "for i in range(n):\n",
    "    for j in range(m):\n",
    "        print(i,end=\" \")\n",
    "    print()"
   ]
  },
  {
   "cell_type": "code",
   "execution_count": 12,
   "id": "b4dccd63",
   "metadata": {},
   "outputs": [
    {
     "name": "stdout",
     "output_type": "stream",
     "text": [
      "Enter a size: 5\n",
      "* * * * * \n",
      "* * * * * \n",
      "* * * * * \n",
      "* * * * * \n",
      "* * * * * \n"
     ]
    }
   ],
   "source": [
    "n = int(input(\"Enter a size: \"))\n",
    "for i in range(n):\n",
    "    for j in range(n):\n",
    "        print(\"*\",end=\" \")\n",
    "    print()"
   ]
  },
  {
   "cell_type": "code",
   "execution_count": null,
   "id": "03bc6475",
   "metadata": {},
   "outputs": [],
   "source": []
  }
 ],
 "metadata": {
  "kernelspec": {
   "display_name": "Python 3",
   "language": "python",
   "name": "python3"
  },
  "language_info": {
   "codemirror_mode": {
    "name": "ipython",
    "version": 3
   },
   "file_extension": ".py",
   "mimetype": "text/x-python",
   "name": "python",
   "nbconvert_exporter": "python",
   "pygments_lexer": "ipython3",
   "version": "3.7.5"
  }
 },
 "nbformat": 4,
 "nbformat_minor": 5
}
