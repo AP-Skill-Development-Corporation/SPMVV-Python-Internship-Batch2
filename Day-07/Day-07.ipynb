{
 "cells": [
  {
   "cell_type": "markdown",
   "id": "00ca71ba",
   "metadata": {},
   "source": [
    "# elif:\n",
    "    ()=> Optional\n",
    "    if condition-1:\n",
    "        //stmnt-1\n",
    "    elif condition-2:\n",
    "        //stmnt-2\n",
    "        |       |\n",
    "    elif condition-(n-2):\n",
    "        //stmnt-(n-2)\n",
    "    else:\n",
    "        //stmnt-n"
   ]
  },
  {
   "cell_type": "code",
   "execution_count": 6,
   "id": "c0c48f37",
   "metadata": {},
   "outputs": [
    {
     "name": "stdout",
     "output_type": "stream",
     "text": [
      "enter age:19\n",
      "voter is preceding with 1 years\n"
     ]
    }
   ],
   "source": [
    "a=int(input(\"enter age:\"))\n",
    "if a==18:\n",
    "    print(\"you are eligible for voting\")\n",
    "elif a>18:\n",
    "    print(\"voter is preceding with\",a-18,\"years\")\n",
    "else:\n",
    "    print(\"Not eligible for voting\")"
   ]
  },
  {
   "cell_type": "code",
   "execution_count": 11,
   "id": "ae01e309",
   "metadata": {},
   "outputs": [
    {
     "name": "stdout",
     "output_type": "stream",
     "text": [
      "Enter age:15\n",
      "voter is not eligible wait for 3 years\n"
     ]
    }
   ],
   "source": [
    "a=int(input(\"Enter age:\"))\n",
    "if a==18:\n",
    "    print(\"voter is eligible\")\n",
    "elif a>18:\n",
    "    print(\"voter is preceding with\",a-18,\"years\")\n",
    "else:\n",
    "    print(\"voter is not eligible wait for\",18-a,\"years\")"
   ]
  },
  {
   "cell_type": "code",
   "execution_count": 5,
   "id": "4a846f79",
   "metadata": {},
   "outputs": [
    {
     "name": "stdout",
     "output_type": "stream",
     "text": [
      "Enter a number: 10\n",
      "10 is Even\n"
     ]
    }
   ],
   "source": [
    "n = int(input(\"Enter a number: \"))\n",
    "if n%3==0:\n",
    "    print(f\"{n} is divisible by 3\")\n",
    "elif n%2!=0:\n",
    "    print(f\"{n} is Odd\")\n",
    "elif n%2==0 and n%4==0:\n",
    "    print(f\"{n} is divisible by 2 and 4\")\n",
    "else:\n",
    "    print(f\"{n} is Even\")"
   ]
  },
  {
   "cell_type": "markdown",
   "id": "34f3d463",
   "metadata": {},
   "source": [
    "# Loops or Iterations or Repititions\n",
    "    - To execute single statement for n number of times\n",
    "    - for => Known ranges\n",
    "    - while => Known and Unknown ranges"
   ]
  },
  {
   "cell_type": "markdown",
   "id": "b5a2e7cf",
   "metadata": {},
   "source": [
    "# range():\n",
    "    - range(stop)\n",
    "        ex: range(5) => 0 1 2 3 4\n",
    "        - By default it increments with \"1\"\n",
    "        - It starts with 0\n",
    "        - It ends with stop-1\n",
    "    - range(start,stop)\n",
    "        ex: range(1,6) => 1 2 3 4 5\n",
    "        - Exactly it starts with start value\n",
    "        - It incements with \"1\"\n",
    "        - It ends with stop-1\n",
    "    - range(start,stop,step)\n",
    "        ex: range(1,5,2) => 1 3\n",
    "        - Exactly it starts with start value\n",
    "        - It incements/decrements with step\n",
    "        - It stops with stop-1"
   ]
  },
  {
   "cell_type": "markdown",
   "id": "eb848d04",
   "metadata": {},
   "source": [
    "# for\n",
    "    Syntax:\n",
    "        for variablename in range(start,stop,step):\n",
    "            //stmnts\n",
    "                    or\n",
    "        for variablename in iterator:\n",
    "            //stmnts\n",
    "        \n",
    "        Iterator: List,Tuple,Set,String and Dictionary"
   ]
  },
  {
   "cell_type": "code",
   "execution_count": 8,
   "id": "ebf66320",
   "metadata": {},
   "outputs": [
    {
     "name": "stdout",
     "output_type": "stream",
     "text": [
      "enter a value: 10\n",
      "0 1 2 3 4 5 6 7 8 9 "
     ]
    }
   ],
   "source": [
    "a=int(input(\"enter a value: \"))\n",
    "for i in range(a):\n",
    "    print(i,end=\" \")"
   ]
  },
  {
   "cell_type": "code",
   "execution_count": null,
   "id": "3a3226ac",
   "metadata": {},
   "outputs": [],
   "source": []
  }
 ],
 "metadata": {
  "kernelspec": {
   "display_name": "Python 3",
   "language": "python",
   "name": "python3"
  },
  "language_info": {
   "codemirror_mode": {
    "name": "ipython",
    "version": 3
   },
   "file_extension": ".py",
   "mimetype": "text/x-python",
   "name": "python",
   "nbconvert_exporter": "python",
   "pygments_lexer": "ipython3",
   "version": "3.7.5"
  }
 },
 "nbformat": 4,
 "nbformat_minor": 5
}
