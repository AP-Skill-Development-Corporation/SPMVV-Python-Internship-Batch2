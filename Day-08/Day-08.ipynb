{
 "cells": [
  {
   "cell_type": "code",
   "execution_count": 16,
   "id": "61e54e87",
   "metadata": {},
   "outputs": [
    {
     "name": "stdout",
     "output_type": "stream",
     "text": [
      "enter a value: 50\n",
      "enter b value: 60\n",
      "60 59 58 57 56 55 54 53 52 51 50 "
     ]
    }
   ],
   "source": [
    "a,b = int(input(\"enter a value: \")),int(input(\"enter b value: \"))\n",
    "for i in range(a,b+1):\n",
    "    print(b-i+a,end = \" \")"
   ]
  },
  {
   "cell_type": "code",
   "execution_count": 19,
   "id": "dc91f3fe",
   "metadata": {},
   "outputs": [
    {
     "name": "stdout",
     "output_type": "stream",
     "text": [
      "Enter start range: 10\n",
      "Enter end range: 20\n",
      "12 16 14 18 16 18 18 22 20 24 "
     ]
    }
   ],
   "source": [
    "st = int(input(\"Enter start range: \"))\n",
    "en = int(input(\"Enter end range: \"))\n",
    "for i in range(st,en):\n",
    "    if i%2==0:\n",
    "        print(i+2,end=\" \")\n",
    "    elif i%3==0:\n",
    "        print(i+3,end=\" \")\n",
    "    else:\n",
    "        print(i+5,end=\" \")"
   ]
  },
  {
   "cell_type": "code",
   "execution_count": 4,
   "id": "4b983401",
   "metadata": {},
   "outputs": [
    {
     "name": "stdout",
     "output_type": "stream",
     "text": [
      "24\n",
      "Not Weird\n"
     ]
    }
   ],
   "source": [
    "n=int(input())\n",
    "if n%2==0:\n",
    "    if n>=2 and n<=5:\n",
    "        print(\"Not Weird\")\n",
    "    elif n>=6 and n<=20:\n",
    "        print(\"Weird\")\n",
    "    else:\n",
    "        print(\"Not Weird\")\n",
    "else:\n",
    "    print(\"Weird\")"
   ]
  },
  {
   "cell_type": "code",
   "execution_count": null,
   "id": "6fbe4d28",
   "metadata": {},
   "outputs": [],
   "source": [
    "n=int(input())\n",
    "if n%2==0 and (n>=2 and n<=5):\n",
    "    print(\"Not Weird\")\n",
    "elif n%2==0 and (n>=6 and n<=20):\n",
    "    print(\"Weird\")\n",
    "elif n%2==0 and n>20:\n",
    "    print(\"Not Weird\")\n",
    "else:\n",
    "    print(\"Weird\")"
   ]
  }
 ],
 "metadata": {
  "kernelspec": {
   "display_name": "Python 3",
   "language": "python",
   "name": "python3"
  },
  "language_info": {
   "codemirror_mode": {
    "name": "ipython",
    "version": 3
   },
   "file_extension": ".py",
   "mimetype": "text/x-python",
   "name": "python",
   "nbconvert_exporter": "python",
   "pygments_lexer": "ipython3",
   "version": "3.7.5"
  }
 },
 "nbformat": 4,
 "nbformat_minor": 5
}
