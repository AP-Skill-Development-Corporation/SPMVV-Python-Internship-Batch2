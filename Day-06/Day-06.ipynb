{
 "cells": [
  {
   "cell_type": "markdown",
   "id": "40007901",
   "metadata": {},
   "source": [
    "# Nested if:\n",
    "    () => Optional\n",
    "    if condition-1:\n",
    "        if condition-2:\n",
    "            //stmnt-1\n",
    "        else:\n",
    "            //stmnt-2\n",
    "    else:\n",
    "        //stmnt-3"
   ]
  },
  {
   "cell_type": "code",
   "execution_count": 11,
   "id": "c5203127",
   "metadata": {},
   "outputs": [
    {
     "name": "stdout",
     "output_type": "stream",
     "text": [
      "enter marks of a student73\n",
      "73 average\n"
     ]
    }
   ],
   "source": [
    "a=int(input(\"enter marks of a student\"))\n",
    "if(a>=35):\n",
    "    if(a>=75):\n",
    "        print(f\"{a} good\")\n",
    "    else:\n",
    "        print(f\"{a} average\")\n",
    "else:\n",
    "    print(f\"{a} fail\")"
   ]
  },
  {
   "cell_type": "code",
   "execution_count": 22,
   "id": "3bdbac0e",
   "metadata": {},
   "outputs": [
    {
     "name": "stdout",
     "output_type": "stream",
     "text": [
      "enter username:rameeja\n",
      "enter password:89\n",
      "invalid username/password\n"
     ]
    }
   ],
   "source": [
    "u,p=\"rameeja\",'786'\n",
    "name,pwd=input(\"enter username:\"),input(\"enter password:\")\n",
    "if name==u and p==pwd:\n",
    "    print(f\"Welcome User {u}\")\n",
    "else:\n",
    "    print('invalid username/password')"
   ]
  },
  {
   "cell_type": "code",
   "execution_count": 27,
   "id": "3d2c1506",
   "metadata": {},
   "outputs": [
    {
     "name": "stdout",
     "output_type": "stream",
     "text": [
      "enter username: sowmya\n",
      "enter password: 21\n",
      "welcome username sowmya\n"
     ]
    }
   ],
   "source": [
    "a,b=\"sowmya\",\"21\"\n",
    "c=input(\"enter username: \")\n",
    "if (a==c):\n",
    "    d=input(\"enter password: \")\n",
    "    if(b==d):\n",
    "        print(f\"welcome username {a}\")\n",
    "    else:\n",
    "        print(\"invalid password\")\n",
    "else:\n",
    "    print(\"invalid username\")"
   ]
  },
  {
   "cell_type": "code",
   "execution_count": 28,
   "id": "1d08459d",
   "metadata": {},
   "outputs": [
    {
     "name": "stdout",
     "output_type": "stream",
     "text": [
      "====Register Here=====\n",
      "Create Username: tarun\n",
      "Create Password: 123\n",
      "tarun User Created Successfully\n",
      "=====Login Here=====\n",
      "Enter username: tarun\n",
      "Enter password: 123\n",
      "Welcome User tarun!!!\n"
     ]
    }
   ],
   "source": [
    "print(\"====Register Here=====\")\n",
    "u = input(\"Create Username: \")\n",
    "p = input(\"Create Password: \")\n",
    "print(f\"{u} User Created Successfully\")\n",
    "print(\"=====Login Here=====\")\n",
    "user = input(\"Enter username: \")\n",
    "if user == u:\n",
    "    pwd = input(\"Enter password: \")\n",
    "    if pwd == p:\n",
    "        print(f\"Welcome User {user}!!!\")\n",
    "    else:\n",
    "        print(\"Invalid Password\")\n",
    "        print(\"Try with correct password\")\n",
    "else:\n",
    "    print(f\"Invalid Username {user}\")\n",
    "    print(\"Try your Correct Username\")"
   ]
  },
  {
   "cell_type": "code",
   "execution_count": null,
   "id": "1411aa3c",
   "metadata": {},
   "outputs": [],
   "source": []
  }
 ],
 "metadata": {
  "kernelspec": {
   "display_name": "Python 3",
   "language": "python",
   "name": "python3"
  },
  "language_info": {
   "codemirror_mode": {
    "name": "ipython",
    "version": 3
   },
   "file_extension": ".py",
   "mimetype": "text/x-python",
   "name": "python",
   "nbconvert_exporter": "python",
   "pygments_lexer": "ipython3",
   "version": "3.7.5"
  }
 },
 "nbformat": 4,
 "nbformat_minor": 5
}
